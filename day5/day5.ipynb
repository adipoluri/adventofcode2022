{
 "cells": [
  {
   "cell_type": "code",
   "execution_count": 25,
   "id": "b693b7b2",
   "metadata": {},
   "outputs": [
    {
     "name": "stdout",
     "output_type": "stream",
     "text": [
      "[['N', 'B', 'D', 'T', 'V', 'G', 'Z', 'J'], ['S', 'R', 'M', 'D', 'W', 'P', 'F'], ['V', 'C', 'R', 'S', 'Z'], ['R', 'T', 'J', 'Z', 'P', 'H', 'G'], ['T', 'C', 'J', 'N', 'D', 'Z', 'Q', 'F'], ['N', 'V', 'P', 'W', 'G', 'S', 'F', 'M'], ['G', 'C', 'V', 'B', 'P', 'Q'], ['Z', 'B', 'P', 'N'], ['W', 'P', 'J']]\n"
     ]
    }
   ],
   "source": [
    "#Load Data\n",
    "\n",
    "data = [num for num in open('input.txt').readlines()]\n",
    "\n",
    "#Process Data to get Stacks\n",
    "stacks = 9\n",
    "stackData = [[] for num in range(stacks)]\n",
    "counter = 0\n",
    "layerData = data[counter]\n",
    "\n",
    "while \"[\" in layerData:\n",
    "    for i in range(0,len(layerData),4):\n",
    "        letter = data[counter][i+1]\n",
    "        if(letter != \" \"):\n",
    "            stackData[int(i/4)].insert(0,data[counter][i+1])\n",
    "    counter += 1\n",
    "    layerData = data[counter]\n",
    "\n",
    "print(stackData)\n",
    "\n",
    "#remove stack data from data\n",
    "steps = data[counter+2:len(data)]"
   ]
  },
  {
   "cell_type": "code",
   "execution_count": 24,
   "id": "bcc404cf",
   "metadata": {},
   "outputs": [
    {
     "name": "stdout",
     "output_type": "stream",
     "text": [
      "GFTNRBZPF\n"
     ]
    }
   ],
   "source": [
    "res = stackData\n",
    "for step in steps:\n",
    "    amount = int(step[5])\n",
    "    if(step[6] != \" \"):\n",
    "        amount = int(step[5:7])\n",
    "        fromStack = int(step[13])-1\n",
    "        toStack = int(step[18])-1\n",
    "    else:\n",
    "        fromStack = int(step[12])-1\n",
    "        toStack = int(step[17])-1\n",
    "        \n",
    "    for crate in range(amount):\n",
    "        top = res[fromStack].pop()\n",
    "        res[toStack].append(top)\n",
    "        \n",
    "\n",
    "code = ''.join([stack.pop() for stack in res])\n",
    "print(code)"
   ]
  },
  {
   "cell_type": "code",
   "execution_count": 26,
   "id": "8f5f6a88",
   "metadata": {},
   "outputs": [
    {
     "name": "stdout",
     "output_type": "stream",
     "text": [
      "VRQWPDSGP\n"
     ]
    }
   ],
   "source": [
    "stacks = stackData\n",
    "for step in steps:\n",
    "    amount = int(step[5])\n",
    "    if(step[6] != \" \"):\n",
    "        amount = int(step[5:7])\n",
    "        fromStack = int(step[13])-1\n",
    "        toStack = int(step[18])-1\n",
    "    else:\n",
    "        fromStack = int(step[12])-1\n",
    "        toStack = int(step[17])-1\n",
    "        \n",
    "    lifting = []\n",
    "    for crate in range(amount):\n",
    "        top = stacks[fromStack].pop()\n",
    "        lifting.insert(0,top)\n",
    "    stacks[toStack] = stacks[toStack] + lifting\n",
    "        \n",
    "\n",
    "code = ''.join([stack.pop() for stack in stacks])\n",
    "print(code)"
   ]
  }
 ],
 "metadata": {
  "kernelspec": {
   "display_name": "Python 3 (ipykernel)",
   "language": "python",
   "name": "python3"
  },
  "language_info": {
   "codemirror_mode": {
    "name": "ipython",
    "version": 3
   },
   "file_extension": ".py",
   "mimetype": "text/x-python",
   "name": "python",
   "nbconvert_exporter": "python",
   "pygments_lexer": "ipython3",
   "version": "3.10.8"
  }
 },
 "nbformat": 4,
 "nbformat_minor": 5
}
