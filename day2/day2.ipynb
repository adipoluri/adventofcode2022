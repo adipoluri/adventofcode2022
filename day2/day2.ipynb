{
 "cells": [
  {
   "cell_type": "code",
   "execution_count": 44,
   "id": "48d48770",
   "metadata": {},
   "outputs": [],
   "source": [
    "## Load Data ##\n",
    "data = [[letter for letter in match.replace(\"\\n\",\"\").split(\" \")] for match in open('input.txt').readlines()]"
   ]
  },
  {
   "cell_type": "code",
   "execution_count": 47,
   "id": "531ef6d5",
   "metadata": {
    "scrolled": false
   },
   "outputs": [
    {
     "name": "stdout",
     "output_type": "stream",
     "text": [
      "15691\n"
     ]
    }
   ],
   "source": [
    "score = 0\n",
    "for match in data:\n",
    "    if match[0] == \"A\":\n",
    "        if match[1] == \"X\":\n",
    "            score += (1+3)\n",
    "        if match[1] == \"Y\":\n",
    "            score += (2 + 6)\n",
    "        if match[1] == \"Z\":\n",
    "            score += (3 + 0)\n",
    "    if match[0] == \"B\":\n",
    "        if match[1] == \"X\":\n",
    "            score += (1 + 0)\n",
    "        if match[1] == \"Y\":\n",
    "            score += (2 + 3)\n",
    "        if match[1] == \"Z\":\n",
    "            score += (3 + 6)\n",
    "    if match[0] == \"C\":\n",
    "        if match[1] == \"X\":\n",
    "            score += (1 + 6)\n",
    "        if match[1] == \"Y\":\n",
    "            score += (2 + 0)\n",
    "        if match[1] == \"Z\":\n",
    "            score += (3 + 3)\n",
    "\n",
    "print(score)"
   ]
  },
  {
   "cell_type": "code",
   "execution_count": 57,
   "id": "f97fe567",
   "metadata": {},
   "outputs": [
    {
     "name": "stdout",
     "output_type": "stream",
     "text": [
      "12989\n"
     ]
    }
   ],
   "source": [
    "drawLUT = {\"A\":1,\"B\":2,\"C\":3}\n",
    "loseLUT = {\"A\":3,\"B\":1,\"C\":2}\n",
    "winLUT = {\"A\":2,\"B\":3,\"C\":1}\n",
    "scoreP2 = 0\n",
    "for match in data:\n",
    "    \n",
    "    if match[1] == \"X\":\n",
    "        scoreP2 += (0 + loseLUT[match[0]])\n",
    "    if match[1] == \"Y\":\n",
    "        scoreP2 += (3 + drawLUT[match[0]])\n",
    "    if match[1] == \"Z\":\n",
    "        scoreP2 += (6 + winLUT[match[0]])\n",
    "\n",
    "print(scoreP2)"
   ]
  },
  {
   "cell_type": "code",
   "execution_count": null,
   "id": "132ff37e",
   "metadata": {},
   "outputs": [],
   "source": []
  }
 ],
 "metadata": {
  "kernelspec": {
   "display_name": "Python 3 (ipykernel)",
   "language": "python",
   "name": "python3"
  },
  "language_info": {
   "codemirror_mode": {
    "name": "ipython",
    "version": 3
   },
   "file_extension": ".py",
   "mimetype": "text/x-python",
   "name": "python",
   "nbconvert_exporter": "python",
   "pygments_lexer": "ipython3",
   "version": "3.10.8"
  }
 },
 "nbformat": 4,
 "nbformat_minor": 5
}
