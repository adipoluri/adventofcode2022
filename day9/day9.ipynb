{
 "cells": [
  {
   "cell_type": "code",
   "execution_count": 125,
   "id": "f5ec16d6",
   "metadata": {},
   "outputs": [
    {
     "name": "stdout",
     "output_type": "stream",
     "text": [
      "[['R', '5'], ['U', '8'], ['L', '8'], ['D', '3'], ['R', '17'], ['D', '10'], ['L', '25'], ['U', '20']]\n"
     ]
    }
   ],
   "source": [
    "data = [step.replace(\"\\n\",\"\").split(\" \") for step in open('input.txt').readlines()]\n",
    "test = [step.replace(\"\\n\",\"\").split(\" \") for step in open('test.txt').readlines()]\n",
    "test2 = [step.replace(\"\\n\",\"\").split(\" \") for step in open('untitled.txt').readlines()]\n",
    "print(test2)\n",
    "def tupleAdd(t1,t2):\n",
    "    return tuple(map(operator.add,t1, t2))\n",
    "    \n",
    "def tupleSub(t1,t2):\n",
    "    return tuple(map(operator.sub,t1, t2))\n",
    "\n",
    "def clamp(n, smallest, largest): \n",
    "    return max(smallest, min(n, largest))\n",
    "\n",
    "def tupleNorm(t1):\n",
    "    return tuple((clamp(t1[0],-1,1),clamp(t1[1],-1,1)))\n",
    "\n",
    "def printRope(ropebody):\n",
    "    print(\"Grid:\")\n",
    "    for i in range(15,-15,-1):\n",
    "        line = \"\"\n",
    "        for j in range(-15,15,1):\n",
    "\n",
    "            if (j,i) in ropebody:\n",
    "                line += (\" * \")\n",
    "            else:\n",
    "                line += (\" . \")\n",
    "        print(line + \"\\n\")"
   ]
  },
  {
   "cell_type": "code",
   "execution_count": 56,
   "id": "6b35b04f",
   "metadata": {},
   "outputs": [
    {
     "name": "stdout",
     "output_type": "stream",
     "text": [
      "Ans to P2:\n",
      "Head Position: (-221, 9)\n",
      "Tail Position: (-220, 9)\n",
      "Number of unique locations visited: 6090\n"
     ]
    }
   ],
   "source": [
    "import operator\n",
    "\n",
    "start = (0,0)\n",
    "movement = {'U':(0,1),'D':(0,-1),'L':(-1,0),'R':(1,0)}\n",
    "locations = [(0,0)]\n",
    "\n",
    "lastPos = start\n",
    "head = start\n",
    "tail = start\n",
    "for step in data:\n",
    "    for num in range(0,int(step[1])):\n",
    "        lastPos = head\n",
    "        head = tupleAdd(head, movement[step[0]])\n",
    "        dist = tupleSub(head, tail)\n",
    "        if abs(dist[0]) > 1 or abs(dist[1]) > 1:\n",
    "            tail = lastPos\n",
    "            if tail not in locations:\n",
    "                locations.append(tail)\n",
    "\n",
    "print(\"Ans to P2:\")\n",
    "print(\"Head Position: \" + str(head))\n",
    "print(\"Tail Position: \" + str(tail))\n",
    "print(\"Number of unique locations visited: \" + str(len(locations)) )"
   ]
  },
  {
   "cell_type": "code",
   "execution_count": 130,
   "id": "cc95f787",
   "metadata": {},
   "outputs": [
    {
     "name": "stdout",
     "output_type": "stream",
     "text": [
      "Ans to P2:\n",
      "Head Position: (-221, 9)\n",
      "Tail Position: (-219, 1)\n",
      "Number of unique locations visited: 2566\n"
     ]
    }
   ],
   "source": [
    "startP2 = (0,0)\n",
    "movement = {'U':(0,1),'D':(0,-1),'L':(-1,0),'R':(1,0)}\n",
    "locationsP2 = [(0,0)]\n",
    "\n",
    "lastPosP2 = startP2\n",
    "ropebody = [startP2]*10\n",
    "for step in data:\n",
    "    for num in range(0,int(step[1])):\n",
    "        ropebody[0] = tupleAdd(ropebody[0], movement[step[0]])\n",
    "        \n",
    "        for i in range(1,len(ropebody)):\n",
    "            temp = ropebody[i]\n",
    "            dist = tupleSub(ropebody[i-1], ropebody[i])\n",
    "            if abs(dist[0]) == 2 or abs(dist[1]) == 2:\n",
    "                ropebody[i] = tupleAdd(ropebody[i],tupleNorm(dist))\n",
    "                \n",
    "                if ropebody[i] not in locationsP2 and i == 9:\n",
    "                    locationsP2.append(ropebody[i])   \n",
    "                    \n",
    "            elif abs(dist[0]) > 1 or abs(dist[1]) > 1:\n",
    "                ropebody[i] = tupleAdd(ropebody[i],tupleSub(dist,movement[step[0]]))\n",
    "                if ropebody[i] not in locationsP2 and i == 9:\n",
    "                    locationsP2.append(ropebody[i])            \n",
    "                 \n",
    "print(\"Ans to P2:\")\n",
    "print(\"Head Position: \" + str(ropebody[0]))\n",
    "print(\"Tail Position: \" + str(ropebody[9]))\n",
    "print(\"Number of unique locations visited: \" + str(len(locationsP2)) )\n",
    "        "
   ]
  }
 ],
 "metadata": {
  "kernelspec": {
   "display_name": "Python 3 (ipykernel)",
   "language": "python",
   "name": "python3"
  },
  "language_info": {
   "codemirror_mode": {
    "name": "ipython",
    "version": 3
   },
   "file_extension": ".py",
   "mimetype": "text/x-python",
   "name": "python",
   "nbconvert_exporter": "python",
   "pygments_lexer": "ipython3",
   "version": "3.10.8"
  }
 },
 "nbformat": 4,
 "nbformat_minor": 5
}
