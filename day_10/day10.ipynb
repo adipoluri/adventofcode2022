{
 "cells": [
  {
   "cell_type": "code",
   "execution_count": 13,
   "id": "a391d6cb",
   "metadata": {},
   "outputs": [
    {
     "name": "stdout",
     "output_type": "stream",
     "text": [
      "15\n"
     ]
    }
   ],
   "source": [
    "data = [instruction.replace(\"\\n\",\"\") for instruction in open('input.txt').readlines()]\n",
    "test = [instruction.replace(\"\\n\",\"\") for instruction in open('test.txt').readlines()]\n",
    "\n",
    "print(test[0][5:])"
   ]
  },
  {
   "cell_type": "code",
   "execution_count": 171,
   "id": "5aac7dde",
   "metadata": {},
   "outputs": [
    {
     "name": "stdout",
     "output_type": "stream",
     "text": [
      "Ans to P1: 15120\n"
     ]
    }
   ],
   "source": [
    "clock = 0\n",
    "register = 1\n",
    "p1Ans = 0\n",
    "for instruction in data:\n",
    "    if 'noop' in instruction:\n",
    "        clock += 1\n",
    "    else:\n",
    "        clock += 1\n",
    "        if (clock-20) % 40 == 0: \n",
    "            p1Ans += clock*register \n",
    "        clock += 1\n",
    "        register += int(instruction[5:])\n",
    "    if (clock-20) % 40 == 0: \n",
    "        p1Ans += clock*register\n",
    "\n",
    "print(\"Ans to P1: \" + str(p1Ans))"
   ]
  },
  {
   "cell_type": "code",
   "execution_count": 169,
   "id": "b987e5cf",
   "metadata": {},
   "outputs": [
    {
     "name": "stdout",
     "output_type": "stream",
     "text": [
      "Ans to P2: \n",
      "███  █  █ ███    ██ ███  ███  █     ██  \n",
      "█  █ █ █  █  █    █ █  █ █  █ █    █  █ \n",
      "█  █ ██   █  █    █ ███  █  █ █    █  █ \n",
      "███  █ █  ███     █ █  █ ███  █    ████ \n",
      "█ █  █ █  █    █  █ █  █ █    █    █  █ \n",
      "█  █ █  █ █     ██  ███  █    ████ █  █ \n"
     ]
    }
   ],
   "source": [
    "from math import floor\n",
    "import numpy as np\n",
    "clock = 0\n",
    "register = 1\n",
    "CRT = []\n",
    "\n",
    "for instruction in data:\n",
    "    if 'noop' in instruction:\n",
    "        CRT.append(\"█\" if (clock - 40*floor(clock/40)) in [register-1,register,register+1] else ' ')\n",
    "        clock += 1\n",
    "    else:\n",
    "        CRT.append(\"█\" if (clock - 40*floor(clock/40)) in [register-1,register,register+1] else ' ')\n",
    "        clock += 1\n",
    "        CRT.append(\"█\" if (clock - 40*floor(clock/40)) in [register-1,register,register+1] else ' ')\n",
    "        clock += 1\n",
    "        register += int(instruction[5:])\n",
    "\n",
    "print(\"Ans to P2: \")\n",
    "for i in range(0,6):\n",
    "    line = ''\n",
    "    for j in range(0,40):\n",
    "        line += CRT[40*i+j]\n",
    "    print(line)"
   ]
  }
 ],
 "metadata": {
  "kernelspec": {
   "display_name": "Python 3 (ipykernel)",
   "language": "python",
   "name": "python3"
  },
  "language_info": {
   "codemirror_mode": {
    "name": "ipython",
    "version": 3
   },
   "file_extension": ".py",
   "mimetype": "text/x-python",
   "name": "python",
   "nbconvert_exporter": "python",
   "pygments_lexer": "ipython3",
   "version": "3.10.8"
  }
 },
 "nbformat": 4,
 "nbformat_minor": 5
}
