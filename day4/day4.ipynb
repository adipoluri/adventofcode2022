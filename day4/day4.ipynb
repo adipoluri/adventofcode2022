{
 "cells": [
  {
   "cell_type": "code",
   "execution_count": 12,
   "id": "c172efda",
   "metadata": {},
   "outputs": [],
   "source": [
    "#Load Data\n",
    "\n",
    "data = [[[int(a) for a in ranges.split(\"-\")] for ranges in num.replace(\"\\n\",\"\").split(\",\")] for num in open('input.txt').readlines()]\n",
    "\n"
   ]
  },
  {
   "cell_type": "code",
   "execution_count": 16,
   "id": "aa13c59f",
   "metadata": {},
   "outputs": [
    {
     "name": "stdout",
     "output_type": "stream",
     "text": [
      "530\n"
     ]
    }
   ],
   "source": [
    "def complete_overlap(segm1, segm2):\n",
    "    if segm1[0] <= segm2[0] and segm1[1] >= segm2[1]:\n",
    "        return True\n",
    "    else:\n",
    "        return False\n",
    "    \n",
    "counter = 0\n",
    "for pairing in data:\n",
    "    p1 = pairing[0]\n",
    "    p2 = pairing[1]\n",
    "    \n",
    "    if complete_overlap(p1,p2) or complete_overlap(p2,p1):\n",
    "        counter += 1\n",
    "        \n",
    "print(counter)"
   ]
  },
  {
   "cell_type": "code",
   "execution_count": 17,
   "id": "a61a05c2",
   "metadata": {},
   "outputs": [
    {
     "name": "stdout",
     "output_type": "stream",
     "text": [
      "903\n"
     ]
    }
   ],
   "source": [
    "def overlap(segm1, segm2):\n",
    "    if (segm1[0] <= segm2[0] and segm1[1] >= segm2[0]) or (segm2[0] <= segm1[0] and segm2[1] >= segm1[0]):\n",
    "        return True\n",
    "    else:\n",
    "        return False\n",
    "    \n",
    "counter = 0\n",
    "for pairing in data:\n",
    "    p1 = pairing[0]\n",
    "    p2 = pairing[1]\n",
    "    \n",
    "    if overlap(p1,p2):\n",
    "        counter += 1\n",
    "        \n",
    "print(counter)"
   ]
  }
 ],
 "metadata": {
  "kernelspec": {
   "display_name": "Python 3 (ipykernel)",
   "language": "python",
   "name": "python3"
  },
  "language_info": {
   "codemirror_mode": {
    "name": "ipython",
    "version": 3
   },
   "file_extension": ".py",
   "mimetype": "text/x-python",
   "name": "python",
   "nbconvert_exporter": "python",
   "pygments_lexer": "ipython3",
   "version": "3.10.8"
  }
 },
 "nbformat": 4,
 "nbformat_minor": 5
}
