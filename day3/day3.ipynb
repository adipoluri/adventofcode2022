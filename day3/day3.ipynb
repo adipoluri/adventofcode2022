{
 "cells": [
  {
   "cell_type": "code",
   "execution_count": 25,
   "id": "554a6142",
   "metadata": {},
   "outputs": [],
   "source": [
    "## Load Data ##\n",
    "import math\n",
    "data = [[string.replace(\"\\n\",\"\")[0:math.floor((len(string)-1)/2)],string.replace(\"\\n\",\"\")[math.floor((len(string)-1)/2):(len(string)-1)]]for string in open('input.txt').readlines()]"
   ]
  },
  {
   "cell_type": "code",
   "execution_count": 68,
   "id": "5642db9b",
   "metadata": {
    "scrolled": false
   },
   "outputs": [
    {
     "name": "stdout",
     "output_type": "stream",
     "text": [
      "8018\n"
     ]
    }
   ],
   "source": [
    "sumPrio = 0\n",
    "for rucksack in data:\n",
    "    token = \"\".join(set(rucksack[0]).intersection(rucksack[1]))\n",
    "    sumPrio += ord(token) - (96 if token.islower() else 38)\n",
    "print(sumPrio)"
   ]
  },
  {
   "cell_type": "code",
   "execution_count": 76,
   "id": "75bb42e9",
   "metadata": {},
   "outputs": [
    {
     "name": "stdout",
     "output_type": "stream",
     "text": [
      "2518\n"
     ]
    }
   ],
   "source": [
    "## Load Data ##\n",
    "\n",
    "datap2 = [string.replace(\"\\n\",\"\") for string in open('input.txt').readlines()]\n",
    "\n",
    "sumPrioP2 = 0\n",
    "\n",
    "for rucksack in range(0,len(datap2),3):\n",
    "    \n",
    "    token = \"\".join(set(datap2[rucksack]).intersection(datap2[rucksack+1]).intersection(datap2[rucksack+2]))\n",
    "    sumPrioP2 += ord(token) - (96 if token.islower() else 38)\n",
    "\n",
    "print(sumPrioP2)"
   ]
  }
 ],
 "metadata": {
  "kernelspec": {
   "display_name": "Python 3 (ipykernel)",
   "language": "python",
   "name": "python3"
  },
  "language_info": {
   "codemirror_mode": {
    "name": "ipython",
    "version": 3
   },
   "file_extension": ".py",
   "mimetype": "text/x-python",
   "name": "python",
   "nbconvert_exporter": "python",
   "pygments_lexer": "ipython3",
   "version": "3.10.8"
  }
 },
 "nbformat": 4,
 "nbformat_minor": 5
}
