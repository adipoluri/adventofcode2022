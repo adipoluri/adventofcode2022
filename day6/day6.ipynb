{
 "cells": [
  {
   "cell_type": "code",
   "execution_count": 27,
   "id": "336bec81",
   "metadata": {},
   "outputs": [],
   "source": [
    "data = [num.replace(\"\\n\",\"\") for num in open('input.txt').readlines()][0]"
   ]
  },
  {
   "cell_type": "code",
   "execution_count": 25,
   "id": "05797776",
   "metadata": {},
   "outputs": [
    {
     "name": "stdout",
     "output_type": "stream",
     "text": [
      "1109\n"
     ]
    }
   ],
   "source": [
    "for i in range(4,len(data)+1):\n",
    "    code = data[i-4:i]\n",
    "    if len(set(code)) == len(code):\n",
    "        print(i)\n",
    "        break"
   ]
  },
  {
   "cell_type": "code",
   "execution_count": 26,
   "id": "c04343f1",
   "metadata": {},
   "outputs": [
    {
     "name": "stdout",
     "output_type": "stream",
     "text": [
      "3965\n"
     ]
    }
   ],
   "source": [
    "for i in range(14,len(data)+1):\n",
    "    code = data[i-14:i]\n",
    "    if len(set(code)) == len(code):\n",
    "        print(i)\n",
    "        break"
   ]
  }
 ],
 "metadata": {
  "kernelspec": {
   "display_name": "Python 3 (ipykernel)",
   "language": "python",
   "name": "python3"
  },
  "language_info": {
   "codemirror_mode": {
    "name": "ipython",
    "version": 3
   },
   "file_extension": ".py",
   "mimetype": "text/x-python",
   "name": "python",
   "nbconvert_exporter": "python",
   "pygments_lexer": "ipython3",
   "version": "3.10.8"
  }
 },
 "nbformat": 4,
 "nbformat_minor": 5
}
